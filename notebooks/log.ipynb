{
 "cells": [
  {
   "cell_type": "code",
   "execution_count": 1,
   "id": "5acccc51-6d22-44f9-b5a5-731b29ff4ff2",
   "metadata": {},
   "outputs": [],
   "source": [
    "import numpy as np\n",
    "from sklearn.model_selection import train_test_split\n",
    "import pandas as pd\n",
    "from sklearn.preprocessing import StandardScaler"
   ]
  },
  {
   "cell_type": "code",
   "execution_count": 2,
   "id": "ecd90687-3104-4c67-a43b-a8549e359f29",
   "metadata": {},
   "outputs": [],
   "source": [
    "import sys\n",
    "sys.path.append(\"../src\")\n",
    "sys.path.append(\"../data\")\n",
    "from logisitic import LogisticRegression"
   ]
  },
  {
   "cell_type": "code",
   "execution_count": 3,
   "id": "7191bc4b-f20e-4c78-bc35-7297db1eff82",
   "metadata": {},
   "outputs": [
    {
     "data": {
      "text/html": [
       "<div>\n",
       "<style scoped>\n",
       "    .dataframe tbody tr th:only-of-type {\n",
       "        vertical-align: middle;\n",
       "    }\n",
       "\n",
       "    .dataframe tbody tr th {\n",
       "        vertical-align: top;\n",
       "    }\n",
       "\n",
       "    .dataframe thead th {\n",
       "        text-align: right;\n",
       "    }\n",
       "</style>\n",
       "<table border=\"1\" class=\"dataframe\">\n",
       "  <thead>\n",
       "    <tr style=\"text-align: right;\">\n",
       "      <th></th>\n",
       "      <th>height</th>\n",
       "      <th>weight</th>\n",
       "      <th>age</th>\n",
       "      <th>tail_length</th>\n",
       "      <th>sex</th>\n",
       "    </tr>\n",
       "  </thead>\n",
       "  <tbody>\n",
       "    <tr>\n",
       "      <th>0</th>\n",
       "      <td>95</td>\n",
       "      <td>180</td>\n",
       "      <td>5</td>\n",
       "      <td>90</td>\n",
       "      <td>Male</td>\n",
       "    </tr>\n",
       "    <tr>\n",
       "      <th>1</th>\n",
       "      <td>102</td>\n",
       "      <td>210</td>\n",
       "      <td>7</td>\n",
       "      <td>95</td>\n",
       "      <td>Male</td>\n",
       "    </tr>\n",
       "    <tr>\n",
       "      <th>2</th>\n",
       "      <td>88</td>\n",
       "      <td>160</td>\n",
       "      <td>4</td>\n",
       "      <td>85</td>\n",
       "      <td>Female</td>\n",
       "    </tr>\n",
       "    <tr>\n",
       "      <th>3</th>\n",
       "      <td>110</td>\n",
       "      <td>230</td>\n",
       "      <td>8</td>\n",
       "      <td>100</td>\n",
       "      <td>Male</td>\n",
       "    </tr>\n",
       "    <tr>\n",
       "      <th>4</th>\n",
       "      <td>97</td>\n",
       "      <td>175</td>\n",
       "      <td>6</td>\n",
       "      <td>92</td>\n",
       "      <td>Female</td>\n",
       "    </tr>\n",
       "  </tbody>\n",
       "</table>\n",
       "</div>"
      ],
      "text/plain": [
       "   height  weight  age  tail_length     sex\n",
       "0      95     180    5           90    Male\n",
       "1     102     210    7           95    Male\n",
       "2      88     160    4           85  Female\n",
       "3     110     230    8          100    Male\n",
       "4      97     175    6           92  Female"
      ]
     },
     "execution_count": 3,
     "metadata": {},
     "output_type": "execute_result"
    }
   ],
   "source": [
    "df = pd.read_csv(\"../data/tiger.csv\")\n",
    "df.head()"
   ]
  },
  {
   "cell_type": "code",
   "execution_count": 4,
   "id": "f9c0f20b-bd4c-4666-add0-6540425b2025",
   "metadata": {},
   "outputs": [],
   "source": [
    "df['sex'] = df['sex'].map({'Male': 0, 'Female': 1})\n"
   ]
  },
  {
   "cell_type": "code",
   "execution_count": 5,
   "id": "d1809b78-0c2e-4bf8-9b13-8add77317756",
   "metadata": {},
   "outputs": [
    {
     "data": {
      "text/plain": [
       "(array([[-0.6979317 , -0.65660874, -0.84615385, -0.71774056],\n",
       "        [ 0.36413828,  0.61424689,  0.69230769,  0.33776026],\n",
       "        [-1.76000167, -1.50384583, -1.61538462, -1.77324139],\n",
       "        [ 1.57793254,  1.46148397,  1.46153846,  1.39326109],\n",
       "        [-0.39448313, -0.86841801, -0.07692308, -0.29554023],\n",
       "        [ 0.81931112,  1.03786543,  0.69230769,  0.97106076],\n",
       "        [-1.15310455, -1.08022728, -0.84615385, -1.13994089],\n",
       "        [ 0.06068971,  0.19062834, -0.07692308,  0.54886043],\n",
       "        [-0.09103457, -0.44479947, -0.84615385, -0.5066404 ],\n",
       "        [ 1.27448397,  1.2496747 ,  1.46153846,  1.18216093]]),\n",
       " array([0, 0, 1, 0, 1, 0, 1, 0, 1, 0]))"
      ]
     },
     "execution_count": 5,
     "metadata": {},
     "output_type": "execute_result"
    }
   ],
   "source": [
    "X = df[['height', 'weight', 'age', 'tail_length']].values\n",
    "y = df['sex'].values \n",
    "scaler = StandardScaler()\n",
    "X_normalized = scaler.fit_transform(X)\n",
    "X_normalized, y"
   ]
  },
  {
   "cell_type": "code",
   "execution_count": 6,
   "id": "c0be3378-3460-40fe-80ba-ca3ff2cc4cb0",
   "metadata": {},
   "outputs": [
    {
     "data": {
      "text/plain": [
       "array([-0.58976461, -0.45177284, -0.87526632, -0.45739272, -0.70592472])"
      ]
     },
     "execution_count": 6,
     "metadata": {},
     "output_type": "execute_result"
    }
   ],
   "source": [
    "logistic = LogisticRegression(X_normalized,y)\n",
    "logistic.fit()"
   ]
  },
  {
   "cell_type": "code",
   "execution_count": 8,
   "id": "0e9364e0-2992-474d-9231-66b1a2059653",
   "metadata": {},
   "outputs": [
    {
     "name": "stdout",
     "output_type": "stream",
     "text": [
      "╔══════════════════════════════════════════════╗\n",
      "║             CONFUSION MATRIX                 ║\n",
      "╠══════════════════════════════════════════════╣\n",
      "║              Predicted Labels                ║\n",
      "╠══════════════════════════╦══════════╦════════╣\n",
      "║                          ║ Male     ║ Female ║\n",
      "║                          ║   (0)    ║  (1)   ║\n",
      "╠══════════════════════════╬══════════╬════════╣\n",
      "║         Actual           ║          ║        ║\n",
      "║         Labels           ║          ║        ║\n",
      "╠══════════════════════════╬══════════╬════════╣\n",
      "║     Male            ║    5     ║  1     ║\n",
      "╠══════════════════════════╬══════════╬════════╣\n",
      "║     Female          ║    0     ║  4     ║\n",
      "╚══════════════════════════╩══════════╩════════╝\n",
      "\n",
      "╔══════════════════════════════════════╗\n",
      "║           PERFORMANCE METRICS        ║\n",
      "╠══════════════════════════════════════╣\n",
      "║ Accuracy:   90.00% ( 9/10)        ║\n",
      "║ Precision:  80.00%                    ║\n",
      "║ Recall:    100.00%                    ║\n",
      "║ F1-Score:   88.89%                    ║\n",
      "╚══════════════════════════════════════╝\n"
     ]
    },
    {
     "data": {
      "text/plain": [
       "array([[5, 1],\n",
       "       [0, 4]])"
      ]
     },
     "execution_count": 8,
     "metadata": {},
     "output_type": "execute_result"
    }
   ],
   "source": [
    "y_pred = logistic.predict(X_normalized)\n",
    "class_name = [\"Male\", \"Female\"]\n",
    "logistic.confusion_matrix(y, y_pred, class_name)"
   ]
  },
  {
   "cell_type": "code",
   "execution_count": null,
   "id": "bb71cc63-6955-4d0a-aa98-d1c8e97eeccd",
   "metadata": {},
   "outputs": [],
   "source": []
  }
 ],
 "metadata": {
  "kernelspec": {
   "display_name": "Python 3 (ipykernel)",
   "language": "python",
   "name": "python3"
  },
  "language_info": {
   "codemirror_mode": {
    "name": "ipython",
    "version": 3
   },
   "file_extension": ".py",
   "mimetype": "text/x-python",
   "name": "python",
   "nbconvert_exporter": "python",
   "pygments_lexer": "ipython3",
   "version": "3.10.11"
  }
 },
 "nbformat": 4,
 "nbformat_minor": 5
}
