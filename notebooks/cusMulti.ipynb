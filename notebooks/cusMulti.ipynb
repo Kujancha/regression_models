{
 "cells": [
  {
   "cell_type": "code",
   "execution_count": 1,
   "id": "10ab99af-3934-4c18-98ee-25084cb53986",
   "metadata": {},
   "outputs": [],
   "source": [
    "import numpy as np\n",
    "import matplotlib.pyplot as plt"
   ]
  },
  {
   "cell_type": "code",
   "execution_count": 2,
   "id": "e7d41f5d-419e-48d3-a892-50cf9b9eb746",
   "metadata": {},
   "outputs": [],
   "source": [
    "import sys\n",
    "sys.path.append(\"../src\")\n",
    "from linearReg import Model"
   ]
  },
  {
   "cell_type": "code",
   "execution_count": 3,
   "id": "e22eecc9-7895-4726-b429-b8ca7a0ed91f",
   "metadata": {},
   "outputs": [],
   "source": [
    "m = 100\n",
    "X = 0.5 * 6 + np.random.randn(m,1)\n",
    "y = X ** 2 + 3 * X + 0.5 + np.random.randn(m,1)"
   ]
  },
  {
   "cell_type": "code",
   "execution_count": 4,
   "id": "e008eeb0-1607-4753-b10c-a937f9c25691",
   "metadata": {},
   "outputs": [],
   "source": [
    "from sklearn.preprocessing import PolynomialFeatures"
   ]
  },
  {
   "cell_type": "code",
   "execution_count": 5,
   "id": "bc1bbf8d-0aa4-4284-af0f-dc37c0cf9eff",
   "metadata": {},
   "outputs": [
    {
     "data": {
      "text/plain": [
       "(array([1.32768662]), array([1.32768662, 1.76275176]))"
      ]
     },
     "execution_count": 5,
     "metadata": {},
     "output_type": "execute_result"
    }
   ],
   "source": [
    "poly_features = PolynomialFeatures(degree=2, include_bias=False)\n",
    "X_poly = poly_features.fit_transform(X)\n",
    "X[0], X_poly[0]"
   ]
  },
  {
   "cell_type": "code",
   "execution_count": 7,
   "id": "7aa16d00-1553-4490-8722-2377c6de49a0",
   "metadata": {},
   "outputs": [
    {
     "data": {
      "text/plain": [
       "array([[ 2.70279340e+161],\n",
       "       [-1.87629758e+161],\n",
       "       [ 2.88974985e+160]])"
      ]
     },
     "execution_count": 7,
     "metadata": {},
     "output_type": "execute_result"
    }
   ],
   "source": [
    "model = Model(X_poly, y)\n",
    "result = model.evaluation()\n",
    "result"
   ]
  },
  {
   "cell_type": "code",
   "execution_count": null,
   "id": "11bd5af9-0866-4adf-a232-00fc7dea51ba",
   "metadata": {},
   "outputs": [],
   "source": [
    "resul"
   ]
  }
 ],
 "metadata": {
  "kernelspec": {
   "display_name": "Python 3 (ipykernel)",
   "language": "python",
   "name": "python3"
  },
  "language_info": {
   "codemirror_mode": {
    "name": "ipython",
    "version": 3
   },
   "file_extension": ".py",
   "mimetype": "text/x-python",
   "name": "python",
   "nbconvert_exporter": "python",
   "pygments_lexer": "ipython3",
   "version": "3.10.11"
  }
 },
 "nbformat": 4,
 "nbformat_minor": 5
}
