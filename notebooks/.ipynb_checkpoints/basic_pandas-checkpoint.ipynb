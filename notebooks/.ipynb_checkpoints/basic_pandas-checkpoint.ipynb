{
 "cells": [
  {
   "cell_type": "code",
   "execution_count": 2,
   "id": "3a4b97a9-28bd-4ded-a07c-f953767c6db6",
   "metadata": {},
   "outputs": [],
   "source": [
    "import numpy as np\n",
    "import matplotlib.pyplot as plt\n",
    "import pandas as pd"
   ]
  },
  {
   "cell_type": "code",
   "execution_count": 3,
   "id": "c59e467f-3572-480f-86a7-3a65c86e4c45",
   "metadata": {},
   "outputs": [
    {
     "data": {
      "text/html": [
       "<div>\n",
       "<style scoped>\n",
       "    .dataframe tbody tr th:only-of-type {\n",
       "        vertical-align: middle;\n",
       "    }\n",
       "\n",
       "    .dataframe tbody tr th {\n",
       "        vertical-align: top;\n",
       "    }\n",
       "\n",
       "    .dataframe thead th {\n",
       "        text-align: right;\n",
       "    }\n",
       "</style>\n",
       "<table border=\"1\" class=\"dataframe\">\n",
       "  <thead>\n",
       "    <tr style=\"text-align: right;\">\n",
       "      <th></th>\n",
       "      <th>Period</th>\n",
       "      <th>Inst_sector</th>\n",
       "      <th>Inst_sector_code</th>\n",
       "      <th>Descriptor</th>\n",
       "      <th>SNA08TRANS</th>\n",
       "      <th>Asset_liability_code</th>\n",
       "      <th>Values</th>\n",
       "    </tr>\n",
       "  </thead>\n",
       "  <tbody>\n",
       "    <tr>\n",
       "      <th>0</th>\n",
       "      <td>2007.03</td>\n",
       "      <td>Non-corporate business enterprises</td>\n",
       "      <td>121</td>\n",
       "      <td>Closing balance total assets</td>\n",
       "      <td>LE00000</td>\n",
       "      <td>A000000</td>\n",
       "      <td>345948</td>\n",
       "    </tr>\n",
       "    <tr>\n",
       "      <th>1</th>\n",
       "      <td>2007.03</td>\n",
       "      <td>Non-corporate business enterprises</td>\n",
       "      <td>121</td>\n",
       "      <td>Financial assets Closing balance Total financi...</td>\n",
       "      <td>LE00000</td>\n",
       "      <td>AFA0000</td>\n",
       "      <td>99748</td>\n",
       "    </tr>\n",
       "    <tr>\n",
       "      <th>2</th>\n",
       "      <td>2007.03</td>\n",
       "      <td>Non-corporate business enterprises</td>\n",
       "      <td>121</td>\n",
       "      <td>Financial assets Closing balance monetary gold...</td>\n",
       "      <td>LE00000</td>\n",
       "      <td>AFA0100</td>\n",
       "      <td>0</td>\n",
       "    </tr>\n",
       "    <tr>\n",
       "      <th>3</th>\n",
       "      <td>2007.03</td>\n",
       "      <td>Non-corporate business enterprises</td>\n",
       "      <td>121</td>\n",
       "      <td>Financial assets Closing balance currency and ...</td>\n",
       "      <td>LE00000</td>\n",
       "      <td>AFA0200</td>\n",
       "      <td>14773</td>\n",
       "    </tr>\n",
       "    <tr>\n",
       "      <th>4</th>\n",
       "      <td>2007.03</td>\n",
       "      <td>Non-corporate business enterprises</td>\n",
       "      <td>121</td>\n",
       "      <td>Financial assets Closing balance debt securities</td>\n",
       "      <td>LE00000</td>\n",
       "      <td>AFA0300</td>\n",
       "      <td>1267</td>\n",
       "    </tr>\n",
       "  </tbody>\n",
       "</table>\n",
       "</div>"
      ],
      "text/plain": [
       "    Period                         Inst_sector  Inst_sector_code  \\\n",
       "0  2007.03  Non-corporate business enterprises               121   \n",
       "1  2007.03  Non-corporate business enterprises               121   \n",
       "2  2007.03  Non-corporate business enterprises               121   \n",
       "3  2007.03  Non-corporate business enterprises               121   \n",
       "4  2007.03  Non-corporate business enterprises               121   \n",
       "\n",
       "                                          Descriptor SNA08TRANS  \\\n",
       "0                       Closing balance total assets    LE00000   \n",
       "1  Financial assets Closing balance Total financi...    LE00000   \n",
       "2  Financial assets Closing balance monetary gold...    LE00000   \n",
       "3  Financial assets Closing balance currency and ...    LE00000   \n",
       "4   Financial assets Closing balance debt securities    LE00000   \n",
       "\n",
       "  Asset_liability_code  Values  \n",
       "0              A000000  345948  \n",
       "1              AFA0000   99748  \n",
       "2              AFA0100       0  \n",
       "3              AFA0200   14773  \n",
       "4              AFA0300    1267  "
      ]
     },
     "execution_count": 3,
     "metadata": {},
     "output_type": "execute_result"
    }
   ],
   "source": [
    "df = pd.read_csv('../data/test.csv')\n",
    "df.head()"
   ]
  },
  {
   "cell_type": "code",
   "execution_count": 6,
   "id": "3579ead9-8923-41ee-a1eb-aa15b384c7a1",
   "metadata": {},
   "outputs": [
    {
     "data": {
      "text/html": [
       "<div>\n",
       "<style scoped>\n",
       "    .dataframe tbody tr th:only-of-type {\n",
       "        vertical-align: middle;\n",
       "    }\n",
       "\n",
       "    .dataframe tbody tr th {\n",
       "        vertical-align: top;\n",
       "    }\n",
       "\n",
       "    .dataframe thead th {\n",
       "        text-align: right;\n",
       "    }\n",
       "</style>\n",
       "<table border=\"1\" class=\"dataframe\">\n",
       "  <thead>\n",
       "    <tr style=\"text-align: right;\">\n",
       "      <th></th>\n",
       "      <th>Period</th>\n",
       "      <th>Inst_sector</th>\n",
       "      <th>Inst_sector_code</th>\n",
       "      <th>Descriptor</th>\n",
       "      <th>SNA08TRANS</th>\n",
       "      <th>Asset_liability_code</th>\n",
       "      <th>Values</th>\n",
       "    </tr>\n",
       "  </thead>\n",
       "  <tbody>\n",
       "    <tr>\n",
       "      <th>0</th>\n",
       "      <td>2007.03</td>\n",
       "      <td>Non-corporate business enterprises</td>\n",
       "      <td>121</td>\n",
       "      <td>Closing balance total assets</td>\n",
       "      <td>LE00000</td>\n",
       "      <td>A000000</td>\n",
       "      <td>345948</td>\n",
       "    </tr>\n",
       "    <tr>\n",
       "      <th>1</th>\n",
       "      <td>2007.03</td>\n",
       "      <td>Non-corporate business enterprises</td>\n",
       "      <td>121</td>\n",
       "      <td>Financial assets Closing balance Total financi...</td>\n",
       "      <td>LE00000</td>\n",
       "      <td>AFA0000</td>\n",
       "      <td>99748</td>\n",
       "    </tr>\n",
       "    <tr>\n",
       "      <th>2</th>\n",
       "      <td>2007.03</td>\n",
       "      <td>Non-corporate business enterprises</td>\n",
       "      <td>121</td>\n",
       "      <td>Financial assets Closing balance monetary gold...</td>\n",
       "      <td>LE00000</td>\n",
       "      <td>AFA0100</td>\n",
       "      <td>0</td>\n",
       "    </tr>\n",
       "    <tr>\n",
       "      <th>3</th>\n",
       "      <td>2007.03</td>\n",
       "      <td>Non-corporate business enterprises</td>\n",
       "      <td>121</td>\n",
       "      <td>Financial assets Closing balance currency and ...</td>\n",
       "      <td>LE00000</td>\n",
       "      <td>AFA0200</td>\n",
       "      <td>14773</td>\n",
       "    </tr>\n",
       "    <tr>\n",
       "      <th>4</th>\n",
       "      <td>2007.03</td>\n",
       "      <td>Non-corporate business enterprises</td>\n",
       "      <td>121</td>\n",
       "      <td>Financial assets Closing balance debt securities</td>\n",
       "      <td>LE00000</td>\n",
       "      <td>AFA0300</td>\n",
       "      <td>1267</td>\n",
       "    </tr>\n",
       "    <tr>\n",
       "      <th>5</th>\n",
       "      <td>2007.03</td>\n",
       "      <td>Non-corporate business enterprises</td>\n",
       "      <td>121</td>\n",
       "      <td>Financial assets Closing balance loans</td>\n",
       "      <td>LE00000</td>\n",
       "      <td>AFA0400</td>\n",
       "      <td>21229</td>\n",
       "    </tr>\n",
       "    <tr>\n",
       "      <th>6</th>\n",
       "      <td>2007.03</td>\n",
       "      <td>Non-corporate business enterprises</td>\n",
       "      <td>121</td>\n",
       "      <td>Financial assets Closing balance equity and in...</td>\n",
       "      <td>LE00000</td>\n",
       "      <td>AFA0500</td>\n",
       "      <td>58868</td>\n",
       "    </tr>\n",
       "    <tr>\n",
       "      <th>7</th>\n",
       "      <td>2007.03</td>\n",
       "      <td>Non-corporate business enterprises</td>\n",
       "      <td>121</td>\n",
       "      <td>Financial assets Closing balance insurance, pe...</td>\n",
       "      <td>LE00000</td>\n",
       "      <td>AFA0600</td>\n",
       "      <td>285</td>\n",
       "    </tr>\n",
       "    <tr>\n",
       "      <th>8</th>\n",
       "      <td>2007.03</td>\n",
       "      <td>Non-corporate business enterprises</td>\n",
       "      <td>121</td>\n",
       "      <td>Financial assets Closing balance financial der...</td>\n",
       "      <td>LE00000</td>\n",
       "      <td>AFA0700</td>\n",
       "      <td>0</td>\n",
       "    </tr>\n",
       "    <tr>\n",
       "      <th>9</th>\n",
       "      <td>2007.03</td>\n",
       "      <td>Non-corporate business enterprises</td>\n",
       "      <td>121</td>\n",
       "      <td>Financial assets Closing balance other account...</td>\n",
       "      <td>LE00000</td>\n",
       "      <td>AFA0800</td>\n",
       "      <td>3326</td>\n",
       "    </tr>\n",
       "  </tbody>\n",
       "</table>\n",
       "</div>"
      ],
      "text/plain": [
       "    Period                         Inst_sector  Inst_sector_code  \\\n",
       "0  2007.03  Non-corporate business enterprises               121   \n",
       "1  2007.03  Non-corporate business enterprises               121   \n",
       "2  2007.03  Non-corporate business enterprises               121   \n",
       "3  2007.03  Non-corporate business enterprises               121   \n",
       "4  2007.03  Non-corporate business enterprises               121   \n",
       "5  2007.03  Non-corporate business enterprises               121   \n",
       "6  2007.03  Non-corporate business enterprises               121   \n",
       "7  2007.03  Non-corporate business enterprises               121   \n",
       "8  2007.03  Non-corporate business enterprises               121   \n",
       "9  2007.03  Non-corporate business enterprises               121   \n",
       "\n",
       "                                          Descriptor SNA08TRANS  \\\n",
       "0                       Closing balance total assets    LE00000   \n",
       "1  Financial assets Closing balance Total financi...    LE00000   \n",
       "2  Financial assets Closing balance monetary gold...    LE00000   \n",
       "3  Financial assets Closing balance currency and ...    LE00000   \n",
       "4   Financial assets Closing balance debt securities    LE00000   \n",
       "5             Financial assets Closing balance loans    LE00000   \n",
       "6  Financial assets Closing balance equity and in...    LE00000   \n",
       "7  Financial assets Closing balance insurance, pe...    LE00000   \n",
       "8  Financial assets Closing balance financial der...    LE00000   \n",
       "9  Financial assets Closing balance other account...    LE00000   \n",
       "\n",
       "  Asset_liability_code  Values  \n",
       "0              A000000  345948  \n",
       "1              AFA0000   99748  \n",
       "2              AFA0100       0  \n",
       "3              AFA0200   14773  \n",
       "4              AFA0300    1267  \n",
       "5              AFA0400   21229  \n",
       "6              AFA0500   58868  \n",
       "7              AFA0600     285  \n",
       "8              AFA0700       0  \n",
       "9              AFA0800    3326  "
      ]
     },
     "execution_count": 6,
     "metadata": {},
     "output_type": "execute_result"
    }
   ],
   "source": [
    "df.head(10)"
   ]
  },
  {
   "cell_type": "code",
   "execution_count": 7,
   "id": "f35d04b1-a615-41a7-b521-b6378dc329ac",
   "metadata": {},
   "outputs": [
    {
     "data": {
      "text/html": [
       "<div>\n",
       "<style scoped>\n",
       "    .dataframe tbody tr th:only-of-type {\n",
       "        vertical-align: middle;\n",
       "    }\n",
       "\n",
       "    .dataframe tbody tr th {\n",
       "        vertical-align: top;\n",
       "    }\n",
       "\n",
       "    .dataframe thead th {\n",
       "        text-align: right;\n",
       "    }\n",
       "</style>\n",
       "<table border=\"1\" class=\"dataframe\">\n",
       "  <thead>\n",
       "    <tr style=\"text-align: right;\">\n",
       "      <th></th>\n",
       "      <th>Period</th>\n",
       "      <th>Inst_sector</th>\n",
       "      <th>Inst_sector_code</th>\n",
       "      <th>Descriptor</th>\n",
       "      <th>SNA08TRANS</th>\n",
       "      <th>Asset_liability_code</th>\n",
       "      <th>Values</th>\n",
       "    </tr>\n",
       "  </thead>\n",
       "  <tbody>\n",
       "    <tr>\n",
       "      <th>7748</th>\n",
       "      <td>2023.03</td>\n",
       "      <td>Total all sectors</td>\n",
       "      <td>900</td>\n",
       "      <td>Capital Account Closing balances Produced non-...</td>\n",
       "      <td>LE00000</td>\n",
       "      <td>AN10000</td>\n",
       "      <td>1440803</td>\n",
       "    </tr>\n",
       "    <tr>\n",
       "      <th>7749</th>\n",
       "      <td>2023.03</td>\n",
       "      <td>Total all sectors</td>\n",
       "      <td>900</td>\n",
       "      <td>Capital Account Closing balances Non-produced ...</td>\n",
       "      <td>LE00000</td>\n",
       "      <td>AN20000</td>\n",
       "      <td>1576577</td>\n",
       "    </tr>\n",
       "    <tr>\n",
       "      <th>7750</th>\n",
       "      <td>2023.03</td>\n",
       "      <td>Total all sectors</td>\n",
       "      <td>900</td>\n",
       "      <td>Closing balance net worth</td>\n",
       "      <td>LE00000</td>\n",
       "      <td>B900000</td>\n",
       "      <td>3017380</td>\n",
       "    </tr>\n",
       "    <tr>\n",
       "      <th>7751</th>\n",
       "      <td>2023.03</td>\n",
       "      <td>Total all sectors</td>\n",
       "      <td>900</td>\n",
       "      <td>Closing balance total liabilities and net worth</td>\n",
       "      <td>LE00000</td>\n",
       "      <td>L000000</td>\n",
       "      <td>7678630</td>\n",
       "    </tr>\n",
       "  </tbody>\n",
       "</table>\n",
       "</div>"
      ],
      "text/plain": [
       "       Period        Inst_sector  Inst_sector_code  \\\n",
       "7748  2023.03  Total all sectors               900   \n",
       "7749  2023.03  Total all sectors               900   \n",
       "7750  2023.03  Total all sectors               900   \n",
       "7751  2023.03  Total all sectors               900   \n",
       "\n",
       "                                             Descriptor SNA08TRANS  \\\n",
       "7748  Capital Account Closing balances Produced non-...    LE00000   \n",
       "7749  Capital Account Closing balances Non-produced ...    LE00000   \n",
       "7750                          Closing balance net worth    LE00000   \n",
       "7751    Closing balance total liabilities and net worth    LE00000   \n",
       "\n",
       "     Asset_liability_code   Values  \n",
       "7748              AN10000  1440803  \n",
       "7749              AN20000  1576577  \n",
       "7750              B900000  3017380  \n",
       "7751              L000000  7678630  "
      ]
     },
     "execution_count": 7,
     "metadata": {},
     "output_type": "execute_result"
    }
   ],
   "source": [
    "df.tail(4)"
   ]
  },
  {
   "cell_type": "code",
   "execution_count": 8,
   "id": "e202dfdc-3ddb-43db-a13d-ca683465ec37",
   "metadata": {},
   "outputs": [
    {
     "ename": "TypeError",
     "evalue": "'tuple' object is not callable",
     "output_type": "error",
     "traceback": [
      "\u001b[1;31m---------------------------------------------------------------------------\u001b[0m",
      "\u001b[1;31mTypeError\u001b[0m                                 Traceback (most recent call last)",
      "Cell \u001b[1;32mIn[8], line 1\u001b[0m\n\u001b[1;32m----> 1\u001b[0m \u001b[43mdf\u001b[49m\u001b[38;5;241;43m.\u001b[39;49m\u001b[43mshape\u001b[49m\u001b[43m(\u001b[49m\u001b[43m)\u001b[49m\n",
      "\u001b[1;31mTypeError\u001b[0m: 'tuple' object is not callable"
     ]
    }
   ],
   "source": [
    "df.shape()"
   ]
  },
  {
   "cell_type": "code",
   "execution_count": 9,
   "id": "41969ee4-bbf6-45ac-8589-21f918bd8a49",
   "metadata": {},
   "outputs": [
    {
     "data": {
      "text/plain": [
       "(7752, 7)"
      ]
     },
     "execution_count": 9,
     "metadata": {},
     "output_type": "execute_result"
    }
   ],
   "source": [
    "df.shape"
   ]
  },
  {
   "cell_type": "code",
   "execution_count": 10,
   "id": "dd6f4c6a-4a8b-4813-b4cb-1cb6192c291d",
   "metadata": {},
   "outputs": [
    {
     "data": {
      "text/plain": [
       "54264"
      ]
     },
     "execution_count": 10,
     "metadata": {},
     "output_type": "execute_result"
    }
   ],
   "source": [
    "df.size"
   ]
  },
  {
   "cell_type": "code",
   "execution_count": 11,
   "id": "54d4d8ec-165b-4a7c-9c0d-18df9b98b322",
   "metadata": {},
   "outputs": [
    {
     "data": {
      "text/plain": [
       "7752"
      ]
     },
     "execution_count": 11,
     "metadata": {},
     "output_type": "execute_result"
    }
   ],
   "source": [
    "len(df)"
   ]
  },
  {
   "cell_type": "code",
   "execution_count": 12,
   "id": "73745e63-6608-4360-a9d9-4459ee3c0990",
   "metadata": {},
   "outputs": [
    {
     "ename": "AttributeError",
     "evalue": "'DataFrame' object has no attribute 'columnsO'",
     "output_type": "error",
     "traceback": [
      "\u001b[1;31m---------------------------------------------------------------------------\u001b[0m",
      "\u001b[1;31mAttributeError\u001b[0m                            Traceback (most recent call last)",
      "\u001b[1;32m~\\AppData\\Local\\Temp\\ipykernel_2532\\3971599947.py\u001b[0m in \u001b[0;36m?\u001b[1;34m()\u001b[0m\n\u001b[1;32m----> 1\u001b[1;33m \u001b[0mdf\u001b[0m\u001b[1;33m.\u001b[0m\u001b[0mcolumnsO\u001b[0m\u001b[1;33m\u001b[0m\u001b[1;33m\u001b[0m\u001b[0m\n\u001b[0m",
      "\u001b[1;32m~\\AppData\\Local\\Programs\\Python\\Python310\\lib\\site-packages\\pandas\\core\\generic.py\u001b[0m in \u001b[0;36m?\u001b[1;34m(self, name)\u001b[0m\n\u001b[0;32m   6295\u001b[0m             \u001b[1;32mand\u001b[0m \u001b[0mname\u001b[0m \u001b[1;32mnot\u001b[0m \u001b[1;32min\u001b[0m \u001b[0mself\u001b[0m\u001b[1;33m.\u001b[0m\u001b[0m_accessors\u001b[0m\u001b[1;33m\u001b[0m\u001b[1;33m\u001b[0m\u001b[0m\n\u001b[0;32m   6296\u001b[0m             \u001b[1;32mand\u001b[0m \u001b[0mself\u001b[0m\u001b[1;33m.\u001b[0m\u001b[0m_info_axis\u001b[0m\u001b[1;33m.\u001b[0m\u001b[0m_can_hold_identifiers_and_holds_name\u001b[0m\u001b[1;33m(\u001b[0m\u001b[0mname\u001b[0m\u001b[1;33m)\u001b[0m\u001b[1;33m\u001b[0m\u001b[1;33m\u001b[0m\u001b[0m\n\u001b[0;32m   6297\u001b[0m         ):\n\u001b[0;32m   6298\u001b[0m             \u001b[1;32mreturn\u001b[0m \u001b[0mself\u001b[0m\u001b[1;33m[\u001b[0m\u001b[0mname\u001b[0m\u001b[1;33m]\u001b[0m\u001b[1;33m\u001b[0m\u001b[1;33m\u001b[0m\u001b[0m\n\u001b[1;32m-> 6299\u001b[1;33m         \u001b[1;32mreturn\u001b[0m \u001b[0mobject\u001b[0m\u001b[1;33m.\u001b[0m\u001b[0m__getattribute__\u001b[0m\u001b[1;33m(\u001b[0m\u001b[0mself\u001b[0m\u001b[1;33m,\u001b[0m \u001b[0mname\u001b[0m\u001b[1;33m)\u001b[0m\u001b[1;33m\u001b[0m\u001b[1;33m\u001b[0m\u001b[0m\n\u001b[0m",
      "\u001b[1;31mAttributeError\u001b[0m: 'DataFrame' object has no attribute 'columnsO'"
     ]
    }
   ],
   "source": [
    "df.columnsO"
   ]
  },
  {
   "cell_type": "code",
   "execution_count": 13,
   "id": "da8f521d-21e5-4ca1-94b3-ccdee173bbed",
   "metadata": {},
   "outputs": [
    {
     "ename": "AttributeError",
     "evalue": "'DataFrame' object has no attribute 'column'",
     "output_type": "error",
     "traceback": [
      "\u001b[1;31m---------------------------------------------------------------------------\u001b[0m",
      "\u001b[1;31mAttributeError\u001b[0m                            Traceback (most recent call last)",
      "\u001b[1;32m~\\AppData\\Local\\Temp\\ipykernel_2532\\1114064248.py\u001b[0m in \u001b[0;36m?\u001b[1;34m()\u001b[0m\n\u001b[1;32m----> 1\u001b[1;33m \u001b[0mdf\u001b[0m\u001b[1;33m.\u001b[0m\u001b[0mcolumn\u001b[0m\u001b[1;33m(\u001b[0m\u001b[1;33m)\u001b[0m\u001b[1;33m\u001b[0m\u001b[1;33m\u001b[0m\u001b[0m\n\u001b[0m",
      "\u001b[1;32m~\\AppData\\Local\\Programs\\Python\\Python310\\lib\\site-packages\\pandas\\core\\generic.py\u001b[0m in \u001b[0;36m?\u001b[1;34m(self, name)\u001b[0m\n\u001b[0;32m   6295\u001b[0m             \u001b[1;32mand\u001b[0m \u001b[0mname\u001b[0m \u001b[1;32mnot\u001b[0m \u001b[1;32min\u001b[0m \u001b[0mself\u001b[0m\u001b[1;33m.\u001b[0m\u001b[0m_accessors\u001b[0m\u001b[1;33m\u001b[0m\u001b[1;33m\u001b[0m\u001b[0m\n\u001b[0;32m   6296\u001b[0m             \u001b[1;32mand\u001b[0m \u001b[0mself\u001b[0m\u001b[1;33m.\u001b[0m\u001b[0m_info_axis\u001b[0m\u001b[1;33m.\u001b[0m\u001b[0m_can_hold_identifiers_and_holds_name\u001b[0m\u001b[1;33m(\u001b[0m\u001b[0mname\u001b[0m\u001b[1;33m)\u001b[0m\u001b[1;33m\u001b[0m\u001b[1;33m\u001b[0m\u001b[0m\n\u001b[0;32m   6297\u001b[0m         ):\n\u001b[0;32m   6298\u001b[0m             \u001b[1;32mreturn\u001b[0m \u001b[0mself\u001b[0m\u001b[1;33m[\u001b[0m\u001b[0mname\u001b[0m\u001b[1;33m]\u001b[0m\u001b[1;33m\u001b[0m\u001b[1;33m\u001b[0m\u001b[0m\n\u001b[1;32m-> 6299\u001b[1;33m         \u001b[1;32mreturn\u001b[0m \u001b[0mobject\u001b[0m\u001b[1;33m.\u001b[0m\u001b[0m__getattribute__\u001b[0m\u001b[1;33m(\u001b[0m\u001b[0mself\u001b[0m\u001b[1;33m,\u001b[0m \u001b[0mname\u001b[0m\u001b[1;33m)\u001b[0m\u001b[1;33m\u001b[0m\u001b[1;33m\u001b[0m\u001b[0m\n\u001b[0m",
      "\u001b[1;31mAttributeError\u001b[0m: 'DataFrame' object has no attribute 'column'"
     ]
    }
   ],
   "source": [
    "df.column()"
   ]
  },
  {
   "cell_type": "code",
   "execution_count": 14,
   "id": "6760748e-d1bf-43ff-a33a-1d8a004c4db5",
   "metadata": {},
   "outputs": [
    {
     "data": {
      "text/plain": [
       "Index(['Period', 'Inst_sector', 'Inst_sector_code', 'Descriptor', 'SNA08TRANS',\n",
       "       'Asset_liability_code', 'Values'],\n",
       "      dtype='object')"
      ]
     },
     "execution_count": 14,
     "metadata": {},
     "output_type": "execute_result"
    }
   ],
   "source": [
    "df.columns\n"
   ]
  },
  {
   "cell_type": "code",
   "execution_count": 15,
   "id": "79990e0e-1d27-4e7d-9565-987aa4d5f765",
   "metadata": {},
   "outputs": [
    {
     "data": {
      "text/plain": [
       "0       2007.03\n",
       "1       2007.03\n",
       "2       2007.03\n",
       "3       2007.03\n",
       "4       2007.03\n",
       "         ...   \n",
       "7747    2023.03\n",
       "7748    2023.03\n",
       "7749    2023.03\n",
       "7750    2023.03\n",
       "7751    2023.03\n",
       "Name: Period, Length: 7752, dtype: float64"
      ]
     },
     "execution_count": 15,
     "metadata": {},
     "output_type": "execute_result"
    }
   ],
   "source": [
    "df[\"Period\"]"
   ]
  },
  {
   "cell_type": "code",
   "execution_count": 17,
   "id": "b0029a07-f0eb-4292-864b-c742adb02195",
   "metadata": {},
   "outputs": [
    {
     "data": {
      "text/html": [
       "<div>\n",
       "<style scoped>\n",
       "    .dataframe tbody tr th:only-of-type {\n",
       "        vertical-align: middle;\n",
       "    }\n",
       "\n",
       "    .dataframe tbody tr th {\n",
       "        vertical-align: top;\n",
       "    }\n",
       "\n",
       "    .dataframe thead th {\n",
       "        text-align: right;\n",
       "    }\n",
       "</style>\n",
       "<table border=\"1\" class=\"dataframe\">\n",
       "  <thead>\n",
       "    <tr style=\"text-align: right;\">\n",
       "      <th></th>\n",
       "      <th>Values</th>\n",
       "      <th>Asset_liability_code</th>\n",
       "    </tr>\n",
       "  </thead>\n",
       "  <tbody>\n",
       "    <tr>\n",
       "      <th>0</th>\n",
       "      <td>345948</td>\n",
       "      <td>A000000</td>\n",
       "    </tr>\n",
       "    <tr>\n",
       "      <th>1</th>\n",
       "      <td>99748</td>\n",
       "      <td>AFA0000</td>\n",
       "    </tr>\n",
       "    <tr>\n",
       "      <th>2</th>\n",
       "      <td>0</td>\n",
       "      <td>AFA0100</td>\n",
       "    </tr>\n",
       "    <tr>\n",
       "      <th>3</th>\n",
       "      <td>14773</td>\n",
       "      <td>AFA0200</td>\n",
       "    </tr>\n",
       "    <tr>\n",
       "      <th>4</th>\n",
       "      <td>1267</td>\n",
       "      <td>AFA0300</td>\n",
       "    </tr>\n",
       "    <tr>\n",
       "      <th>5</th>\n",
       "      <td>21229</td>\n",
       "      <td>AFA0400</td>\n",
       "    </tr>\n",
       "  </tbody>\n",
       "</table>\n",
       "</div>"
      ],
      "text/plain": [
       "   Values Asset_liability_code\n",
       "0  345948              A000000\n",
       "1   99748              AFA0000\n",
       "2       0              AFA0100\n",
       "3   14773              AFA0200\n",
       "4    1267              AFA0300\n",
       "5   21229              AFA0400"
      ]
     },
     "execution_count": 17,
     "metadata": {},
     "output_type": "execute_result"
    }
   ],
   "source": [
    "df[[\"Values\", \"Asset_liability_code\"]][:6]"
   ]
  },
  {
   "cell_type": "code",
   "execution_count": null,
   "id": "b1a7d336-725b-4d65-b232-9f94c53351a9",
   "metadata": {},
   "outputs": [],
   "source": [
    "count = df[\"Period\"].value_"
   ]
  }
 ],
 "metadata": {
  "kernelspec": {
   "display_name": "Python 3 (ipykernel)",
   "language": "python",
   "name": "python3"
  },
  "language_info": {
   "codemirror_mode": {
    "name": "ipython",
    "version": 3
   },
   "file_extension": ".py",
   "mimetype": "text/x-python",
   "name": "python",
   "nbconvert_exporter": "python",
   "pygments_lexer": "ipython3",
   "version": "3.10.11"
  }
 },
 "nbformat": 4,
 "nbformat_minor": 5
}
