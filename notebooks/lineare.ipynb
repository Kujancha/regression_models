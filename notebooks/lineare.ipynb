{
 "cells": [
  {
   "cell_type": "code",
   "execution_count": 1,
   "id": "f60c7772-dded-4573-a259-3c3afe6af653",
   "metadata": {},
   "outputs": [],
   "source": [
    "import numpy as np\n",
    "import matplotlib.pyplot as plt\n",
    "from sklearn.preprocessing import add_dummy_feature"
   ]
  },
  {
   "cell_type": "code",
   "execution_count": 2,
   "id": "05b123b1-9b13-4e6b-bc78-4d1cdebd573f",
   "metadata": {},
   "outputs": [],
   "source": [
    "m = 100\n",
    "X = 2 * np.random.rand(m,1)\n",
    "y = 4 + 3 * X + np.random.randn(m,1)"
   ]
  },
  {
   "cell_type": "code",
   "execution_count": 10,
   "id": "7c577bfa-8565-4826-a0ea-9207f708945e",
   "metadata": {},
   "outputs": [
    {
     "data": {
      "text/plain": [
       "array([[152343.36218116],\n",
       "       [181779.64868257]])"
      ]
     },
     "execution_count": 10,
     "metadata": {},
     "output_type": "execute_result"
    }
   ],
   "source": [
    "X_b = add_dummy_feature(X)\n",
    "transposed = X_b.T\n",
    "\n",
    "# the formula for the best theta that minimizes is \n",
    "\n",
    "(transposed @ X_b) @ transposed @ y"
   ]
  },
  {
   "cell_type": "code",
   "execution_count": null,
   "id": "3bb2b4ad-c87d-45f1-877f-2a254eb1c0dc",
   "metadata": {},
   "outputs": [],
   "source": []
  }
 ],
 "metadata": {
  "kernelspec": {
   "display_name": "Python 3 (ipykernel)",
   "language": "python",
   "name": "python3"
  },
  "language_info": {
   "codemirror_mode": {
    "name": "ipython",
    "version": 3
   },
   "file_extension": ".py",
   "mimetype": "text/x-python",
   "name": "python",
   "nbconvert_exporter": "python",
   "pygments_lexer": "ipython3",
   "version": "3.10.11"
  }
 },
 "nbformat": 4,
 "nbformat_minor": 5
}
